{
 "cells": [
  {
   "cell_type": "raw",
   "id": "86e4fdfa",
   "metadata": {},
   "source": [
    "#Assignment 8"
   ]
  },
  {
   "cell_type": "raw",
   "id": "fb3c6e61",
   "metadata": {},
   "source": [
    "1. Is the Python Standard Library included with PyInputPlus?\n",
    "Ans - PyInputPlus is not a part of the Python Standard Library, We have to install it separately using Pip."
   ]
  },
  {
   "cell_type": "raw",
   "id": "35204ac2",
   "metadata": {},
   "source": [
    "2. Why is PyInputPlus commonly imported with import pyinputplus as pypi?\n",
    "Ans - PyInputPlus commonly imported with import pyinputplus as pypi because We can import the module with import pyinputplus as pyip so that we can enter a shorter name when calling the module's functions. PyInputPlus has functions for entering a variety of input, including strings, numbers, dates, yes/no, True/False, emails, and files.\n"
   ]
  },
  {
   "cell_type": "raw",
   "id": "edb0a756",
   "metadata": {},
   "source": [
    "3. How do you distinguish between inputInt() and inputFloat()?\n",
    "Ans - inputInt() : Accepts an integer value. This also takes additional parameters 'min', 'max', 'greaterThan' and 'lessThan' for bounds. Returns an int. inputFloat() : Accepts a floating-point numeric value."
   ]
  },
  {
   "cell_type": "raw",
   "id": "e2b4ae01",
   "metadata": {},
   "source": [
    "4. Using PyInputPlus, how do you ensure that the user enters a whole number between 0 and 99?\n",
    "ans - By using pyip.inputint(min=0, max=99)"
   ]
  },
  {
   "cell_type": "raw",
   "id": "0859af6a",
   "metadata": {},
   "source": [
    "5. What is transferred to the keyword arguments allowRegexes and blockRegexes?\n",
    "Ans - A list of regex strings that are either explicitly allowed or denied"
   ]
  },
  {
   "cell_type": "raw",
   "id": "84ef8a13",
   "metadata": {},
   "source": [
    "6. If a blank input is entered three times, what does inputStr(limit=3) do?\n",
    "Ans - It will raise an RetryLimitException exception."
   ]
  },
  {
   "cell_type": "raw",
   "id": "92828b1e",
   "metadata": {},
   "source": [
    "7. If blank input is entered three times, what does inputStr(limit=3, default='hello') do?\n",
    "Ans - It returns the value N/A to the variable username."
   ]
  }
 ],
 "metadata": {
  "kernelspec": {
   "display_name": "Python 3 (ipykernel)",
   "language": "python",
   "name": "python3"
  },
  "language_info": {
   "codemirror_mode": {
    "name": "ipython",
    "version": 3
   },
   "file_extension": ".py",
   "mimetype": "text/x-python",
   "name": "python",
   "nbconvert_exporter": "python",
   "pygments_lexer": "ipython3",
   "version": "3.9.7"
  }
 },
 "nbformat": 4,
 "nbformat_minor": 5
}
